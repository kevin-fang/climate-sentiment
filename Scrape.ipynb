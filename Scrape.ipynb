{
 "cells": [
  {
   "cell_type": "code",
   "execution_count": 2,
   "metadata": {},
   "outputs": [],
   "source": [
    "from requests.exceptions import RequestException\n",
    "from contextlib import closing\n",
    "import re\n",
    "from lxml import html\n",
    "import requests\n",
    "from datetime import datetime\n",
    "import Algorithmia\n",
    "# Imports the Google Cloud client library\n",
    "from google.cloud import language\n",
    "from google.cloud.language import enums\n",
    "from google.cloud.language import types\n",
    "\n",
    "import os\n",
    "os.environ['GOOGLE_APPLICATION_CREDENTIALS'] = r\"./climate_sentiment_key.json\""
   ]
  },
  {
   "cell_type": "code",
   "execution_count": 3,
   "metadata": {},
   "outputs": [],
   "source": [
    "client = Algorithmia.client('sim0ds3RRSQiux4Q9vb47cqyuHe1')\n",
    "algo = client.algo('nlp/SentimentAnalysis/1.0.5')\n",
    "def get_algorithmia_sentiment(text):\n",
    "    algo_in = {\n",
    "          \"document\": text\n",
    "        }\n",
    "    return algo.pipe(algo_in).result[0]['sentiment']"
   ]
  },
  {
   "cell_type": "code",
   "execution_count": 4,
   "metadata": {},
   "outputs": [],
   "source": [
    "# Instantiates a client\n",
    "client = language.LanguageServiceClient()\n",
    "\n",
    "def get_gcp_sentiment(text):\n",
    "    document = types.Document(\n",
    "        content=text,\n",
    "        type=enums.Document.Type.PLAIN_TEXT)\n",
    "    # Detects the sentiment of the text\n",
    "    sentiment = client.analyze_sentiment(document=document).document_sentiment\n",
    "    return sentiment.score"
   ]
  },
  {
   "cell_type": "code",
   "execution_count": 5,
   "metadata": {},
   "outputs": [],
   "source": [
    "def get_mean_sentiment(sentiments):\n",
    "    return sum([x[0] for x in sentiments]) / len(sentiments)"
   ]
  },
  {
   "cell_type": "code",
   "execution_count": 42,
   "metadata": {},
   "outputs": [],
   "source": [
    "url_data = {}\n",
    "def get_url_data(url):\n",
    "    if url not in url_data:\n",
    "        base_url = \"https://www.textise.net/showText.aspx?strURL=\"\n",
    "        print(\"Downloading HTML page...\")\n",
    "        page = requests.get(base_url + url.replace(\":\", \"%253A\"))\n",
    "        tree = html.fromstring(page.content)\n",
    "        print(\"Finished downloading. Parsing...\")\n",
    "\n",
    "        divs = []\n",
    "        delete = [\" |\", r\"\\n        Other\"]\n",
    "        for div in tree.xpath('//div/text()'):\n",
    "            divs.append(div.rstrip())\n",
    "\n",
    "        divs = divs[8:]\n",
    "        divs = filter(lambda x: x != '', divs)\n",
    "        divs = filter(lambda x: x not in delete, divs)\n",
    "        divs = filter(lambda x: \"[Image: \" not in x, divs)\n",
    "        date_re = r'(\\w+ \\d+, \\d+)'\n",
    "        divs = list(divs)\n",
    "        divs = divs[:-10]\n",
    "        divs = divs[3:]\n",
    "        #date = datetime.strptime(divs[0], \"Published %B %d, %Y\")\n",
    "        #divs = divs[2:]\n",
    "        url_data[url] = divs\n",
    "        return divs\n",
    "    else:\n",
    "        #print(\"Found URL data in cache.\")\n",
    "        return url_data[url]"
   ]
  },
  {
   "cell_type": "code",
   "execution_count": 43,
   "metadata": {},
   "outputs": [],
   "source": [
    "def get_date_from_url(url):\n",
    "    divs = get_url_data(url)\n",
    "    date = datetime.strptime(divs[0], \"Published %B %d, %Y\")\n",
    "    return date"
   ]
  },
  {
   "cell_type": "code",
   "execution_count": 44,
   "metadata": {},
   "outputs": [],
   "source": [
    "def analyze_sentiment_by_sentences(url, verbose=False):\n",
    "    divs = get_url_data(url)\n",
    "    date = get_date_from_url(url)\n",
    "    \n",
    "    return(divs, date)"
   ]
  },
  {
   "cell_type": "code",
   "execution_count": 45,
   "metadata": {
    "scrolled": false
   },
   "outputs": [
    {
     "name": "stdout",
     "output_type": "stream",
     "text": [
      "Downloading HTML page...\n",
      "Finished downloading. Parsing...\n"
     ]
    }
   ],
   "source": [
    "sentiments = analyze_sentiment_by_sentences(\"https://www.foxnews.com/transcript/weather-channel-founder-blasts-climate-change\", verbose=True)"
   ]
  },
  {
   "cell_type": "code",
   "execution_count": 46,
   "metadata": {},
   "outputs": [
    {
     "data": {
      "text/plain": [
       "(['Published October 28, 2014',\n",
       "  'Last Update January 27, 2017',\n",
       "  'Weather Channel founder blasts climate change',\n",
       "  \"John Coleman calls trend 'fake'\",\n",
       "  'This is a rush transcript from \"The Kelly File,\" October 27, 2014. This copy may not be in its final form and may be updated.',\n",
       "  \"MEGYN KELLY, HOST: The administration hammering the message that manmade climate change is one of mankind's greatest threats. But our next guest disagrees. John Coleman is the co- founder of the Weather Channel, winner of the American Meteorological -- that's a tough one -- Meteorological Society's award for broadcast meteorologist of the year and he has spent more than 60 years reporting on the weather.\",\n",
       "  'John, good to see you tonight. And so upset were you about the claims of manmade global warming that you wrote a letter to the UCLA\\'s Hammer Museum form their forum that was called Tackling Climate Change. And you said, \"You don\\'t have both sides represented, and I\\'m here to tell you that manmade global climate change is a myth.\" How can you say that?',\n",
       "  \"JOHN COLEMAN, WEATHER CHANNEL CO-FOUNDER: Well, it's very easy. But thank you for having me on your program. You know, a climate skeptic can rarely get on TV, ever since Al Gore made it a plank of the Democratic Party.\",\n",
       "  'KELLY: And they say you\\'re a \"Looney Tunes\" if you don\\'t believe it.',\n",
       "  'COLEMAN: You bet, and I been in the TV news organizations now for 60 years, and I only met two Republicans the whole time, and they were both hiding in the closet.',\n",
       "  '(LAUGHTER)',\n",
       "  \"This is a tough go for people who don't believe in climate change. A lot study on this.\",\n",
       "  \"KELLY: Well, we heard a lot of that from the last even presidential debate. I mean, even some of the Republican candidates up there, suggested you are nuts. Remember Jon Huntsman? If you don't believe in manmade global climate change.\",\n",
       "  \"COLEMAN: Well, it's very difficult for anybody to be against it because the media has told the nation over and over again, day after day for 20 years that the oceans are rising, the polar bears are dying, the sea -- the ice is melting, the storms are going to sweep the earth and that we're all gonna die of a heat wave. I mean, this is an incredible bad, bad science.\",\n",
       "  \"KELLY: What's your data to the contrary?\",\n",
       "  \"COLEMAN: A professor at UCLA in James Engstrom was very upset that the Hammer Museum forum was going to not give both sides of the climate debate. So he suggested they should have Willie Soon from Harvard and me, join that debate, of course we were turned down. I wrote a nice memo to the people at the Hammer Museum and that got picked up by my friends at the Heartland Institute, the think tank in Chicago. They put out a press release and voila, it's been all over the media -- not the mainstream media of course, the Internet and the --\",\n",
       "  \"KELLY: But what's your data to the contrary? And soon the Weather Channel will be canceled all together -- they will push it out of existence since you've taken this position. But let's get specific. You talk about how the efforts to prove the theory that carbon dioxide is a significant greenhouse gas and that it's causing significant warming have failed. And yet the data say that carbon dioxide was proven to be a greenhouse gas in the 1957 paper by Roger Ravel. The EPA says it's a greenhouse gas, the scientific community has accepted that it is a greenhouse gas and at the amount of carbon dioxide in the atmosphere has gone up since 1958.\",\n",
       "  \"COLEMAN: Well, there are 9,000 PhDs and 31 scientists who have signed the petition that says it's not a significant greenhouse gas. Oh, it's a teen itsy bitsy but in greenhouse gas but it's not in any ways significant. And we are sure of it. It's not like, something I made up or just thought of. I've studied and studied and studied.\",\n",
       "  'And Roger Revelle, the great scientist who wrote that paper back in 1957 with Hans Suess changed his mind a decade later and said, \"Wait a minute, I think we were wrong. Don\\'t anybody panic. I don\\'t think there\\'s any global warming.\" And that\\'s when Al Gore said he was senile --',\n",
       "  '(CROSSTALK)',\n",
       "  \"KELLY: Al Gore. OK. Al Gore said he was senile. Speaking of Al Gore, let's remind the audience on what Al Gore said.\",\n",
       "  \"COLEMAN: Al Gore had one class in science. Roger Revelle taught it to him. He got a D and yet he's made a billion dollars off to climate change. Shame on you Al Gore.\",\n",
       "  'KELLY: Standby. I want to play Al Gore. This is his argument and then you can respond. Listen to him.',\n",
       "  '(BEGIN VIDOE CLIP, \"AN INCONVENIENT TRUTH\")',\n",
       "  'AL GORE, FORMER VICE PRESIDENT: Starting in 1970 there was a precipitous drop-off in the amount and extent and thickness of the arctic icecap. It has diminished by 40 percent in 40 years. And there are now two major studies showing that within the next 50 to 70 years in summertime it will be completely gone.',\n",
       "  '(END OF VIDEO CLIP)',\n",
       "  'KELLY: Your thoughts on that.',\n",
       "  'COLEMAN: Well, I would like to announce tonight, to people who are friends of Al Gore\\'s that, \"Whoops, he got that one wrong!\" The Antarctic icecap is at all-time record high in both coverage and thickness. And the Arctic icecap at the North Pole is at the highest it has been in several years. It\\'s in its so-called normal range since we got satellite observations that could measure it.',\n",
       "  \"So, not only is the ice not melting, more polar bears are alive and happy today than we've had in 100 years.\",\n",
       "  'Life is good, Ms. Kelly, I got to tell you, life is good.',\n",
       "  \"KELLY: John Coleman, good to see you, thanks for being here, sir. I Hope the Weather Channel survives now. It's likely to lose its license.\",\n",
       "  'We appreciate you being here.'],\n",
       " datetime.datetime(2014, 10, 28, 0, 0))"
      ]
     },
     "execution_count": 46,
     "metadata": {},
     "output_type": "execute_result"
    }
   ],
   "source": [
    "sentiments"
   ]
  },
  {
   "cell_type": "code",
   "execution_count": null,
   "metadata": {},
   "outputs": [],
   "source": []
  }
 ],
 "metadata": {
  "kernelspec": {
   "display_name": "Python 3",
   "language": "python",
   "name": "python3"
  },
  "language_info": {
   "codemirror_mode": {
    "name": "ipython",
    "version": 3
   },
   "file_extension": ".py",
   "mimetype": "text/x-python",
   "name": "python",
   "nbconvert_exporter": "python",
   "pygments_lexer": "ipython3",
   "version": "3.6.4"
  }
 },
 "nbformat": 4,
 "nbformat_minor": 2
}
