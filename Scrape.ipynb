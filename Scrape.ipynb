{
 "cells": [
  {
   "cell_type": "code",
   "execution_count": 4,
   "metadata": {},
   "outputs": [],
   "source": [
    "from requests.exceptions import RequestException\n",
    "from contextlib import closing\n",
    "import re\n",
    "from lxml import html\n",
    "import requests\n",
    "from datetime import datetime\n",
    "import Algorithmia\n",
    "# Imports the Google Cloud client library\n",
    "from google.cloud import language\n",
    "from google.cloud.language import enums\n",
    "from google.cloud.language import types\n",
    "\n",
    "import os\n",
    "os.environ['GOOGLE_APPLICATION_CREDENTIALS'] = r\"./climate_sentiment_key.json\""
   ]
  },
  {
   "cell_type": "code",
   "execution_count": 31,
   "metadata": {},
   "outputs": [],
   "source": [
    "def get_headline(url, verbose=False):\n",
    "    # download HTML from simplified page\n",
    "    base_url = \"https://www.textise.net/showText.aspx?strURL=\"\n",
    "    if verbose: print(\"Downloading HTML page...\")\n",
    "    page = requests.get(base_url + url.replace(\":\", \"%253A\"))\n",
    "    tree = html.fromstring(page.content)\n",
    "    if verbose: print(\"Finished downloading. Parsing...\")\n",
    "    \n",
    "    divs = []\n",
    "    for div in tree.xpath('//div/text()'):\n",
    "        divs.append(div.rstrip())\n",
    "    # delete filler text\n",
    "    delete = [\"Español\", 'Set edition preference:', u'\\xa0 -', \"International  Edition\", \"International Edition\", \"Find us on\", \"Read More\", 'U.S.', \"Arabic\", 'International', 'Here are some options:', \"Switzerland\", \" FOLLOW CNN BUSINESS \"]\n",
    "    divs = filter(lambda x: re.sub(' \\d+ of \\d+', '', x), divs)\n",
    "    divs = filter(lambda x: x != [], divs)\n",
    "    divs = filter(lambda x: x != \"<div>\", divs)\n",
    "    divs = filter(lambda x: x != \"</div>\", divs)\n",
    "    divs = filter(lambda x: x != \"\\xa0\", divs)\n",
    "    divs = filter(lambda x: x != \".\", divs)\n",
    "    divs = filter(lambda x: x != \" |\", divs)\n",
    "    divs = filter(lambda x: x != \"\", divs)\n",
    "    divs = filter(lambda x: \"/>\" not in x, divs)\n",
    "    divs = filter(lambda x: \"</\" not in x, divs)\n",
    "    divs = filter(lambda x: \"http\" not in x, divs)\n",
    "    divs = filter(lambda x: \"Image:\" not in x, divs)\n",
    "    divs = filter(lambda x: u\"\\xa0\" not in x, divs)\n",
    "    divs = filter(lambda x: \"Facebook Messenger\" not in x, divs)\n",
    "    divs = filter(lambda x: \"Hide Caption\" not in x, divs)\n",
    "    divs = filter(lambda x: \"MUST WATCH\" not in x, divs)\n",
    "    divs = filter(lambda x: x not in delete, divs)\n",
    "    divs = \"\".join(list(divs)[1:-4])\n",
    "    sentences = [x.strip() for x in divs.split(\".\")][0].split('\\n')[0]\n",
    "    return sentences"
   ]
  },
  {
   "cell_type": "code",
   "execution_count": 32,
   "metadata": {},
   "outputs": [
    {
     "data": {
      "text/plain": [
       "\"'Climate change is back on the table'\""
      ]
     },
     "execution_count": 32,
     "metadata": {},
     "output_type": "execute_result"
    }
   ],
   "source": [
    "repr(get_headline(\"http://money.cnn.com/2012/11/07/news/economy/climate-change-obama/index.html\"))"
   ]
  },
  {
   "cell_type": "code",
   "execution_count": null,
   "metadata": {},
   "outputs": [],
   "source": []
  }
 ],
 "metadata": {
  "kernelspec": {
   "display_name": "Python 3",
   "language": "python",
   "name": "python3"
  },
  "language_info": {
   "codemirror_mode": {
    "name": "ipython",
    "version": 3
   },
   "file_extension": ".py",
   "mimetype": "text/x-python",
   "name": "python",
   "nbconvert_exporter": "python",
   "pygments_lexer": "ipython3",
   "version": "3.6.4"
  }
 },
 "nbformat": 4,
 "nbformat_minor": 2
}
