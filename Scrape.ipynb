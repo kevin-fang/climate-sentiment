{
 "cells": [
  {
   "cell_type": "code",
   "execution_count": 1,
   "metadata": {},
   "outputs": [],
   "source": [
    "from requests.exceptions import RequestException\n",
    "from contextlib import closing\n",
    "import re\n",
    "from lxml import html\n",
    "import requests\n",
    "from datetime import datetime\n",
    "import Algorithmia\n",
    "# Imports the Google Cloud client library\n",
    "from google.cloud import language\n",
    "from google.cloud.language import enums\n",
    "from google.cloud.language import types\n",
    "\n",
    "import os\n",
    "os.environ['GOOGLE_APPLICATION_CREDENTIALS'] = r\"./climate_sentiment_key.json\""
   ]
  },
  {
   "cell_type": "code",
   "execution_count": 2,
   "metadata": {},
   "outputs": [],
   "source": [
    "client = Algorithmia.client('sim0ds3RRSQiux4Q9vb47cqyuHe1')\n",
    "algo = client.algo('nlp/SentimentAnalysis/1.0.5')\n",
    "def get_algorithmia_sentiment(text):\n",
    "    algo_in = {\n",
    "          \"document\": text\n",
    "        }\n",
    "    return algo.pipe(algo_in).result[0]['sentiment']"
   ]
  },
  {
   "cell_type": "code",
   "execution_count": 3,
   "metadata": {},
   "outputs": [],
   "source": [
    "# Instantiates a client\n",
    "client = language.LanguageServiceClient()\n",
    "\n",
    "def get_gcp_sentiment(text):\n",
    "    document = types.Document(\n",
    "        content=text,\n",
    "        type=enums.Document.Type.PLAIN_TEXT)\n",
    "    # Detects the sentiment of the text\n",
    "    sentiment = client.analyze_sentiment(document=document).document_sentiment\n",
    "    return sentiment.score"
   ]
  },
  {
   "cell_type": "code",
   "execution_count": 4,
   "metadata": {},
   "outputs": [],
   "source": [
    "def date_from_url(url):\n",
    "    date_search = r\"(\\d+)\\/(\\d+)\\/(\\d+)\"\n",
    "    return datetime(*[int(x) for x in re.search(date_search, url).groups()])"
   ]
  },
  {
   "cell_type": "code",
   "execution_count": 121,
   "metadata": {},
   "outputs": [],
   "source": [
    "def get_mean_sentiment(sentiments):\n",
    "    return sum([x[0] for x in sentiments]) / len(sentiments)"
   ]
  },
  {
   "cell_type": "code",
   "execution_count": 141,
   "metadata": {},
   "outputs": [],
   "source": [
    "def analyze_sentiment_by_sentences(url, verbose=False):\n",
    "    # download HTML from simplified page\n",
    "    base_url = \"https://www.textise.net/showText.aspx?strURL=\"\n",
    "    print(\"Downloading HTML page...\")\n",
    "    page = requests.get(base_url + url.replace(\":\", \"%253A\"))\n",
    "    tree = html.fromstring(page.content)\n",
    "    print(\"Finished downloading. Parsing...\")\n",
    "    \n",
    "    divs = []\n",
    "    for div in tree.xpath('//div/text()'):\n",
    "        divs.append(div.rstrip())\n",
    "        \n",
    "    # special economist filter\n",
    "    delete = [\"Sections\", \"Here are some options:\", \"Get our daily newsletter\", \"a day ago\", \"Latest stories\", \"Upgrade your inbox and get our Daily Dispatch and Editor's Picks.\", \"Apps & Digital Editions\", \"Blogs\", \"From The Economist Group\", \"Media\", \"\\r\\nDid you know that you can easily add text-only links to your own web site? For more information, visit the\",\n",
    "             ]\n",
    "    divs = filter(lambda x: x != \"<div>\", divs)\n",
    "    divs = filter(lambda x: x != \"</div>\", divs)\n",
    "    divs = filter(lambda x: x != \"\\xa0\", divs)\n",
    "    divs = filter(lambda x: x != \".\", divs)\n",
    "    divs = filter(lambda x: x[-9:] != \"hours ago\", divs)    \n",
    "    divs = filter(lambda x: x != \" |\", divs)\n",
    "    divs = filter(lambda x: x != \"\", divs)\n",
    "    divs = filter(lambda x: x != \"hours ago\", divs)\n",
    "    divs = filter(lambda x: x not in delete, divs)\n",
    "    \n",
    "    divs = list(divs)[5:-25]\n",
    "    divs = \" \".join(list(divs))\n",
    "    sentences = [x.rstrip() + \".\" for x in divs.split(\".\")]\n",
    "    sentiments = []\n",
    "    for i, sentence in enumerate(sentences):\n",
    "        sentiment = get_gcp_sentiment(sentence)\n",
    "        sentiments.append((sentiment, sentence))\n",
    "        if verbose:\n",
    "            print(\"Finished analyzing sentence {} of {}\".format(i + 1, len(sentences)))\n",
    "            print(\"Sentiment: {}\".format(sentiment))\n",
    "        \n",
    "    return sentiments"
   ]
  },
  {
   "cell_type": "code",
   "execution_count": 150,
   "metadata": {
    "scrolled": true
   },
   "outputs": [
    {
     "name": "stdout",
     "output_type": "stream",
     "text": [
      "Downloading HTML page...\n",
      "Finished downloading. Parsing...\n",
      "Finished analyzing sentence 1 of 22\n",
      "Sentiment: -0.10000000149011612\n",
      "Finished analyzing sentence 2 of 22\n",
      "Sentiment: 0.0\n",
      "Finished analyzing sentence 3 of 22\n",
      "Sentiment: 0.0\n",
      "Finished analyzing sentence 4 of 22\n",
      "Sentiment: 0.0\n",
      "Finished analyzing sentence 5 of 22\n",
      "Sentiment: -0.4000000059604645\n",
      "Finished analyzing sentence 6 of 22\n",
      "Sentiment: 0.0\n",
      "Finished analyzing sentence 7 of 22\n",
      "Sentiment: -0.20000000298023224\n",
      "Finished analyzing sentence 8 of 22\n",
      "Sentiment: -0.699999988079071\n",
      "Finished analyzing sentence 9 of 22\n",
      "Sentiment: -0.4000000059604645\n",
      "Finished analyzing sentence 10 of 22\n",
      "Sentiment: -0.800000011920929\n",
      "Finished analyzing sentence 11 of 22\n",
      "Sentiment: 0.0\n",
      "Finished analyzing sentence 12 of 22\n",
      "Sentiment: 0.0\n",
      "Finished analyzing sentence 13 of 22\n",
      "Sentiment: 0.10000000149011612\n",
      "Finished analyzing sentence 14 of 22\n",
      "Sentiment: 0.10000000149011612\n",
      "Finished analyzing sentence 15 of 22\n",
      "Sentiment: -0.5\n",
      "Finished analyzing sentence 16 of 22\n",
      "Sentiment: 0.0\n",
      "Finished analyzing sentence 17 of 22\n",
      "Sentiment: -0.6000000238418579\n",
      "Finished analyzing sentence 18 of 22\n",
      "Sentiment: -0.20000000298023224\n",
      "Finished analyzing sentence 19 of 22\n",
      "Sentiment: 0.0\n",
      "Finished analyzing sentence 20 of 22\n",
      "Sentiment: 0.20000000298023224\n",
      "Finished analyzing sentence 21 of 22\n",
      "Sentiment: 0.30000001192092896\n",
      "Finished analyzing sentence 22 of 22\n",
      "Sentiment: 0.10000000149011612\n"
     ]
    }
   ],
   "source": [
    "sentiments = analyze_sentiment_by_sentences(\"https://www.economist.com/business/2018/08/09/why-oil-firms-should-worry-more-about-climate-change\", verbose=True)"
   ]
  },
  {
   "cell_type": "code",
   "execution_count": 151,
   "metadata": {},
   "outputs": [
    {
     "data": {
      "text/plain": [
       "[(-0.10000000149011612,\n",
       "  'THE oil industry has much to fear from the Paris climate deal of 2015, which aims to limit temperature rises to less than 2°C above the pre-industrial era.'),\n",
       " (0.0,\n",
       "  ' To curb carbon emissions, demand for fossil fuels will have to drop in coming decades.'),\n",
       " (0.0,\n",
       "  ' That is likely to push down oil prices and the value of investments that firms have made based upon them.'),\n",
       " (0.0,\n",
       "  ' A report published on August 6th by Sarasin & Partners, an asset manager in London, suggests that oil firms are assuming that decarbonisation will be limited and are thus overstating their assets.'),\n",
       " (-0.4000000059604645,\n",
       "  ' Sarasin notes that eight European oil giants all used long-term oil price assumptions of $70-80 a barrel, rising by 2% a year with inflation to $127-145 by 2050, to price their assets.'),\n",
       " (0.0, ' But that does not appear to assume any drop in demand.'),\n",
       " (-0.20000000298023224,\n",
       "  ' The International Energy Agency predicts a price of just $60 by 2060; Oil Change International, an activist think-tank, estimates one as low as $35 (see chart).'),\n",
       " (-0.699999988079071,\n",
       "  ' Oil firms could face a sticky mess of forced writedowns.'),\n",
       " (-0.4000000059604645,\n",
       "  ' The justices consider class-action awards that pay plaintiffs nothing Must we have more Tenacious D? How the killing of Jamal Khashoggi affects Turkish-Saudi relations America’s fertility rate continues its deep decline The bag-storage industry is taking off Pagan beliefs persist in the New World The picture is complicated by the fact that in Europe oil firms can choose their own long-term prices, whereas in America regulators compel firms based there to use the average price over the past year, which is nearing $70.'),\n",
       " (-0.800000011920929,\n",
       "  ' Executives in both places have their reasons for thinking that prices will be higher than the worst forecasts, particularly as the world is set to miss the Paris goals.'),\n",
       " (0.0,\n",
       "  ' Setting those aside, prices are likely to be lower anyway in the next few decades, says Adam Pilarski of Avitas, a consultancy.'),\n",
       " (0.0, ' There will be ups and downs to do with geopolitics.'),\n",
       " (0.10000000149011612,\n",
       "  ' Prices are up from $26 in 2016 to over $70 mainly because of Venezuela’s meltdown and better co-operation between Saudi Arabia and Russia.'),\n",
       " (0.10000000149011612,\n",
       "  ' But the economics on the supply side are clear: plentiful reserves and the falling cost of technology for extracting oil will soften long-term prices.'),\n",
       " (-0.5,\n",
       "  ' Natasha\\xa0Landell-Mills of Sarasin says oil firms should be more transparent about the risk this poses to assets and profits.'),\n",
       " (0.0, ' Other fund managers, such as Aviva Investors, echo that view.'),\n",
       " (-0.6000000238418579,\n",
       "  ' In Europe oil bosses are preparing for lower prices, though they are still unwilling to say as much.'),\n",
       " (-0.20000000298023224,\n",
       "  ' Shell and its British rival BP are aiming to make new projects break even at just $40.'),\n",
       " (0.0, ' Investors are more worried about the American firms.'),\n",
       " (0.20000000298023224,\n",
       "  ' Rising prices have lured them to start splurging on pricier projects.'),\n",
       " (0.30000001192092896,\n",
       "  ' America may be leaving the Paris deal, but escaping its impact on global oil prices is harder.'),\n",
       " (0.10000000149011612, '.')]"
      ]
     },
     "execution_count": 151,
     "metadata": {},
     "output_type": "execute_result"
    }
   ],
   "source": [
    "sentiments"
   ]
  },
  {
   "cell_type": "code",
   "execution_count": 152,
   "metadata": {
    "scrolled": true
   },
   "outputs": [
    {
     "data": {
      "text/plain": [
       "-0.14090909199281174"
      ]
     },
     "execution_count": 152,
     "metadata": {},
     "output_type": "execute_result"
    }
   ],
   "source": [
    "get_mean_sentiment(sentiments)"
   ]
  },
  {
   "cell_type": "code",
   "execution_count": null,
   "metadata": {},
   "outputs": [],
   "source": []
  }
 ],
 "metadata": {
  "kernelspec": {
   "display_name": "Python 3",
   "language": "python",
   "name": "python3"
  },
  "language_info": {
   "codemirror_mode": {
    "name": "ipython",
    "version": 3
   },
   "file_extension": ".py",
   "mimetype": "text/x-python",
   "name": "python",
   "nbconvert_exporter": "python",
   "pygments_lexer": "ipython3",
   "version": "3.6.4"
  }
 },
 "nbformat": 4,
 "nbformat_minor": 2
}
