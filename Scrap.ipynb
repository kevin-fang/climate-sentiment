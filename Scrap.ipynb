{
 "cells": [
  {
   "cell_type": "code",
   "execution_count": 142,
   "metadata": {},
   "outputs": [],
   "source": [
    "from requests import get\n",
    "from requests.exceptions import RequestException\n",
    "from contextlib import closing\n",
    "from bs4 import BeautifulSoup\n",
    "import re\n",
    "import Algorithmia\n",
    "\n",
    "def simple_get(url):\n",
    "    \"\"\"\n",
    "    Attempts to get the content at `url` by making an HTTP GET request.\n",
    "    If the content-type of response is some kind of HTML/XML, return the\n",
    "    text content, otherwise return None.\n",
    "    \"\"\"\n",
    "    try:\n",
    "        with closing(get(url, stream=True)) as resp:\n",
    "            if is_good_response(resp):\n",
    "                return resp.content\n",
    "            else:\n",
    "                return None\n",
    "\n",
    "    except RequestException as e:\n",
    "        log_error('Error during requests to {0} : {1}'.format(url, str(e)))\n",
    "        return None\n",
    "\n",
    "def is_good_response(resp):\n",
    "    \"\"\"\n",
    "    Returns True if the response seems to be HTML, False otherwise.\n",
    "    \"\"\"\n",
    "    content_type = resp.headers['Content-Type'].lower()\n",
    "    return (resp.status_code == 200 \n",
    "            and content_type is not None \n",
    "            and content_type.find('html') > -1)\n",
    "\n",
    "\n",
    "def log_error(e):\n",
    "    \"\"\"\n",
    "    It is always a good idea to log errors. \n",
    "    This function just prints them, but you can\n",
    "    make it do anything.\n",
    "    \"\"\"\n",
    "    print(e)\n"
   ]
  },
  {
   "cell_type": "code",
   "execution_count": 143,
   "metadata": {},
   "outputs": [],
   "source": [
    "def analyze_sentiment(url):\n",
    "    base_url = \"https://www.textise.net/showText.aspx?strURL=\"\n",
    "    raw_html = simple_get(base_url + url.replace(\":\", \"%253A\"))\n",
    "    html = BeautifulSoup(raw_html, 'html.parser')\n",
    "    get_inside = r'<.+>(.+)<.+>'\n",
    "    divs = []\n",
    "    for div in html.select('div'):\n",
    "        res = re.findall(get_inside, str(div))\n",
    "        divs.append(res)\n",
    "    delete = [\"Español\", 'Set edition preference:', 'U.S.', \"Arabic\", 'International', 'Here are some options:', \"Switzerland\", \" FOLLOW CNN BUSINESS \"]\n",
    "    divs = filter(lambda x: x != [], divs)\n",
    "    divs = filter(lambda x: x[0] != \"<div>\", divs)\n",
    "    divs = filter(lambda x: x[0] != \"</div>\", divs)\n",
    "    divs = filter(lambda x: x[0] != \"\\xa0\", divs)\n",
    "    divs = filter(lambda x: \"/>\" not in x[0], divs)\n",
    "    divs = filter(lambda x: \"</\" not in x[0], divs)\n",
    "    divs = filter(lambda x: \"http\" not in x[0], divs)\n",
    "    divs = filter(lambda x: \"Image:\" not in x[0], divs)\n",
    "    divs = filter(lambda x: \"Facebook Messenger\" not in x[0], divs)\n",
    "    divs = filter(lambda x: x[0] not in delete, divs)\n",
    "    divs = list(divs)\n",
    "    \n",
    "    str_builder = \"\"\n",
    "    for item in divs:\n",
    "        str_builder += item[0]\n",
    "        \n",
    "    algo_in = {\n",
    "      \"document\": str_builder\n",
    "    }\n",
    "    client = Algorithmia.client('sim0ds3RRSQiux4Q9vb47cqyuHe1')\n",
    "    algo = client.algo('nlp/SentimentAnalysis/1.0.5')\n",
    "    print(algo.pipe(algo_in).result)"
   ]
  },
  {
   "cell_type": "code",
   "execution_count": 133,
   "metadata": {},
   "outputs": [],
   "source": [
    "base_url = \"https://www.textise.net/showText.aspx?strURL=\"\n",
    "url = \"https://www.cnn.com/2018/10/24/business/exxon-ny-ag-lawsuit-climate-change/index.html\"\n",
    "raw_html = simple_get(base_url + url.replace(\":\", \"%253A\"))"
   ]
  },
  {
   "cell_type": "code",
   "execution_count": 134,
   "metadata": {},
   "outputs": [],
   "source": [
    "html = BeautifulSoup(raw_html, 'html.parser')"
   ]
  },
  {
   "cell_type": "code",
   "execution_count": 135,
   "metadata": {
    "scrolled": false
   },
   "outputs": [],
   "source": [
    "import re\n",
    "get_inside = r'<.+>(.+)<.+>'"
   ]
  },
  {
   "cell_type": "code",
   "execution_count": 136,
   "metadata": {},
   "outputs": [],
   "source": [
    "divs = []\n",
    "for div in html.select('div'):\n",
    "    res = re.findall(get_inside, str(div))\n",
    "    divs.append(res)"
   ]
  },
  {
   "cell_type": "code",
   "execution_count": 137,
   "metadata": {},
   "outputs": [],
   "source": [
    "delete = [\"Español\", 'Set edition preference:', 'U.S.', \"Arabic\", 'International', 'Here are some options:', \"Switzerland\", \" FOLLOW CNN BUSINESS \"]"
   ]
  },
  {
   "cell_type": "code",
   "execution_count": 138,
   "metadata": {},
   "outputs": [],
   "source": [
    "divs = filter(lambda x: x != [], divs)\n",
    "divs = filter(lambda x: x[0] != \"<div>\", divs)\n",
    "divs = filter(lambda x: x[0] != \"</div>\", divs)\n",
    "divs = filter(lambda x: x[0] != \"\\xa0\", divs)\n",
    "divs = filter(lambda x: \"/>\" not in x[0], divs)\n",
    "divs = filter(lambda x: \"</\" not in x[0], divs)\n",
    "divs = filter(lambda x: \"http\" not in x[0], divs)\n",
    "divs = filter(lambda x: \"Image:\" not in x[0], divs)\n",
    "divs = filter(lambda x: \"Facebook Messenger\" not in x[0], divs)\n",
    "divs = filter(lambda x: x[0] not in delete, divs)\n",
    "divs = list(divs)"
   ]
  },
  {
   "cell_type": "code",
   "execution_count": 139,
   "metadata": {
    "scrolled": true
   },
   "outputs": [
    {
     "name": "stdout",
     "output_type": "stream",
     "text": [
      "[['Switzerland'], ['Switzerland'], [' FOLLOW CNN BUSINESS '], ['New York  (CNN)For years ExxonMobil duped shareholders about the serious threat its fossil fuels empire faces from the global crackdown on carbon emissions, according to a lawsuit filed on Wednesday by the New York Attorney General. '], ['to climate change regulations.  '], ['\"Exxon&amp;apos;s fraud was sanctioned at the highest levels of the company,\" including by former CEO Rex Tillerson, the lawsuit said.  '], ['Tillerson, who later became the US secretary of state under President Donald Trump, allegedly knew for years about the misrepresentations, the lawsuit said.'], ['\"Exxon built a facade to deceive investors into believing that the company was managing the risks of climate change regulation to its business,\" New York Attorney General Barbara Underwood said in a statement. '], ['Read More'], ['\"In fact, it was intentionally and systematically underestimating or ignoring them, contrary to its public representations,\" she said.  '], ['Exxon has long tried to reassure investors nervous about the consequences of climate change regulation by saying it applied a \"proxy cost\" of carbon to its investment decisions, estimates of oil and gas reserves and other matters. '], ['However, the lawsuit alleges that Exxon often quietly used much lower proxy costs or none at all.  '], ['Understating the cost of carbon regulation would allow an oil company to avoid taking painful writedowns and allay fears that oil and gas assets will become \"stranded\" by costly regulation.  '], ['For example, the lawsuit said Exxon did not apply the proxy cost to 14 oil sands projects in Alberta, Canada, resulting in the understatement of costs by about $25 billion. Exxon&amp;apos;s own planners found that applying a proxy cost consistent with Exxon&amp;apos;s public representations would have shortened one project&amp;apos;s estimated economic life by 28 years and reduced expected revenue by billions of dollars, the lawsuit said. '], ['Tillerson \"knew for years\" that Exxon&amp;apos;s statements to shareholders on these proxy costs were \"misleading,\" the lawsuit said. '], ['Tillerson was not reached for comment.  '], ['In a statement, Exxon slammed the New York Attorney General&amp;apos;s \"tainted, meritless investigation\" and said it will seek to get the lawsuit dismissed.  '], ['\"These baseless allegations are a product of closed-door lobbying by special interests, political opportunism and the attorney general&amp;apos;s inability to admit that a three-year investigation has uncovered no wrongdoing,\" Exxon said.  '], ['into whether Exxon misled investors about climate change and the potential effects on its business.  '], ['Climate activists cheered the aggressive action from New York officials.  '], ['\"Big oil may finally face some consequences for its role in wrecking the climate,\" Bill McKibben, a climate activists and founder of 350.org, said in a statement. '], ['McKibben credited Underwood for \"standing up for investors who may have been swindled, and indirectly the 7 billion of us who will suffer from Exxon&amp;apos;s lies.\" '], ['Most stock quote data provided by BATS. Market indices are shown in real time, except for the DJIA, which is delayed by two minutes. All times are ET. Disclaimer. Morningstar: &amp;copy;\\xa02018\\xa0Morningstar, Inc. All Rights Reserved. Factset: FactSet Research Systems Inc.2018. All rights reserved. Chicago Mercantile Association: Certain market data is the property of Chicago Mercantile Exchange Inc. and its licensors. All rights reserved. Dow Jones: The Dow Jones branded   indices are proprietary to and are calculated, distributed and marketed by DJI Opco, a subsidiary of S&amp;P Dow Jones Indices LLC and have been licensed for use to S&amp;P Opco, LLC and CNN. Standard &amp; Poor&amp;#39;s and S&amp;P are registered trademarks of Standard &amp; Poor&amp;#39;s Financial Services LLC and Dow Jones is a registered trademark of Dow Jones Trademark Holdings LLC.  All content of the Dow Jones branded indices &amp;copy; S&amp;P Dow Jones Indices LLC\\xa02018\\xa0and/or its affiliates.']]\n"
     ]
    }
   ],
   "source": [
    "print(divs)"
   ]
  },
  {
   "cell_type": "code",
   "execution_count": 140,
   "metadata": {},
   "outputs": [],
   "source": [
    "str_builder = \"\"\n",
    "for item in divs:\n",
    "    str_builder += item[0]"
   ]
  },
  {
   "cell_type": "code",
   "execution_count": 141,
   "metadata": {
    "scrolled": true
   },
   "outputs": [
    {
     "name": "stdout",
     "output_type": "stream",
     "text": [
      "[{'document': 'SwitzerlandSwitzerland FOLLOW CNN BUSINESS New York  (CNN)For years ExxonMobil duped shareholders about the serious threat its fossil fuels empire faces from the global crackdown on carbon emissions, according to a lawsuit filed on Wednesday by the New York Attorney General. to climate change regulations.  \"Exxon&amp;apos;s fraud was sanctioned at the highest levels of the company,\" including by former CEO Rex Tillerson, the lawsuit said.  Tillerson, who later became the US secretary of state under President Donald Trump, allegedly knew for years about the misrepresentations, the lawsuit said.\"Exxon built a facade to deceive investors into believing that the company was managing the risks of climate change regulation to its business,\" New York Attorney General Barbara Underwood said in a statement. Read More\"In fact, it was intentionally and systematically underestimating or ignoring them, contrary to its public representations,\" she said.  Exxon has long tried to reassure investors nervous about the consequences of climate change regulation by saying it applied a \"proxy cost\" of carbon to its investment decisions, estimates of oil and gas reserves and other matters. However, the lawsuit alleges that Exxon often quietly used much lower proxy costs or none at all.  Understating the cost of carbon regulation would allow an oil company to avoid taking painful writedowns and allay fears that oil and gas assets will become \"stranded\" by costly regulation.  For example, the lawsuit said Exxon did not apply the proxy cost to 14 oil sands projects in Alberta, Canada, resulting in the understatement of costs by about $25 billion. Exxon&amp;apos;s own planners found that applying a proxy cost consistent with Exxon&amp;apos;s public representations would have shortened one project&amp;apos;s estimated economic life by 28 years and reduced expected revenue by billions of dollars, the lawsuit said. Tillerson \"knew for years\" that Exxon&amp;apos;s statements to shareholders on these proxy costs were \"misleading,\" the lawsuit said. Tillerson was not reached for comment.  In a statement, Exxon slammed the New York Attorney General&amp;apos;s \"tainted, meritless investigation\" and said it will seek to get the lawsuit dismissed.  \"These baseless allegations are a product of closed-door lobbying by special interests, political opportunism and the attorney general&amp;apos;s inability to admit that a three-year investigation has uncovered no wrongdoing,\" Exxon said.  into whether Exxon misled investors about climate change and the potential effects on its business.  Climate activists cheered the aggressive action from New York officials.  \"Big oil may finally face some consequences for its role in wrecking the climate,\" Bill McKibben, a climate activists and founder of 350.org, said in a statement. McKibben credited Underwood for \"standing up for investors who may have been swindled, and indirectly the 7 billion of us who will suffer from Exxon&amp;apos;s lies.\" Most stock quote data provided by BATS. Market indices are shown in real time, except for the DJIA, which is delayed by two minutes. All times are ET. Disclaimer. Morningstar: &amp;copy;\\xa02018\\xa0Morningstar, Inc. All Rights Reserved. Factset: FactSet Research Systems Inc.2018. All rights reserved. Chicago Mercantile Association: Certain market data is the property of Chicago Mercantile Exchange Inc. and its licensors. All rights reserved. Dow Jones: The Dow Jones branded   indices are proprietary to and are calculated, distributed and marketed by DJI Opco, a subsidiary of S&amp;P Dow Jones Indices LLC and have been licensed for use to S&amp;P Opco, LLC and CNN. Standard &amp; Poor&amp;#39;s and S&amp;P are registered trademarks of Standard &amp; Poor&amp;#39;s Financial Services LLC and Dow Jones is a registered trademark of Dow Jones Trademark Holdings LLC.  All content of the Dow Jones branded indices &amp;copy; S&amp;P Dow Jones Indices LLC\\xa02018\\xa0and/or its affiliates.', 'sentiment': -0.13709378}]\n"
     ]
    }
   ],
   "source": [
    "import Algorithmia\n",
    "algo_in = {\n",
    "  \"document\": str_builder\n",
    "}\n",
    "API_KEY = \"\"\n",
    "client = Algorithmia.client(API_KEY)\n",
    "algo = client.algo('nlp/SentimentAnalysis/1.0.5')\n",
    "print(algo.pipe(algo_in).result)"
   ]
  },
  {
   "cell_type": "code",
   "execution_count": 144,
   "metadata": {},
   "outputs": [
    {
     "name": "stdout",
     "output_type": "stream",
     "text": [
      "[{'document': 'Hide Caption 1 of 8Hide Caption 2 of 8Hide Caption 3 of 8Hide Caption 4 of 8Hide Caption 5 of 8Hide Caption 6 of 8Hide Caption 7 of 8Hide Caption 8 of 8 published Wednesday in PLOS One reveals.   suggested that average noise levels would increase by up to 3 decibels per decade.  While there are many causes of low-frequency noise in the oceans, including seismic explosions, renewable energy harvesting and military sonar, most experts believe the main noise source is commercial passenger-cargo shipping.A new study investigated how this increasing cacophony affects whales. Singing malesRead MoreThe researchers began their experiment by setting up underwater recorders in the remote waters off the coast of a roughly 9-square-mile Japanese island, from the middle of February to early May 2017.   Listening to the recordings, the researchers identified one to three singers per day and 26 singers in total. Male humpback whales sing to attract mates, the researcher explained.  Analyzing the data, the team discovered the humpback whales&amp;apos; singing behavior changed in the presence of ships. The main reaction of the 40-ton mammals was to stop singing or to shorten their songs whenever the ship approached, as well as after it passed.  At a range of up to 1,200 meters (nearly three quarters of a mile) from the ship, the whales reduced or terminated their songs.  \"Remarkably,\" wrote the authors, whales swimming under a ship \"continued to sing as usual.\" And most of the whales that stopped singing did not restart for at least 30 minutes after the ship passed, they added., according to the National Oceanic and Atmospheric Administration.  Because the study focused on singing males, it did not reveal how females and whale calves respond to shipping noise, the authors noted. More research is needed, they concluded.Despite these caveats, Spencer Fire, assistant professor in Florida Tech&amp;apos;s Department of Ocean Engineering and Marine Sciences, described the new research as \"solid.\" More &amp;apos;evidence&amp;apos;Fire, who was not involved in the study, said, \"It&amp;apos;s one more bit of evidence confirming that the noise humans make has a negative impact on all sorts of aspects of the life of marine mammals.\"   , who measured levels of stress-related hormone in the feces of North Atlantic right whales in the Bay of Fundy, Canada, during the period that followed the September 11 terrorist attacks, Fire said.  Detection dogs trained to smell whale feces in the water allowed the scientists to collect samples, he explained. The team found that the reduced shipping traffic in the Bay of Fundy following the terrorist attacks resulted in a 6 dB decrease in low frequency underwater noise.  At the same time, they also found \"a huge drop in the level of stress hormones\" in the North Atlantic right whales, said Fire. The following year, when commercial shipping resumed, stress hormone levels in the whales returned to the usual \"really high levels,\" he said.Humpback whale observed by the Ogasawara Whale Watching Association in Japan.Because it aligns with past research, the new study is not surprising, said Fire, still the findings are \"important because of policy.\" He explained that shipping companies are unlikely to change unless they see hard data. Sound is crucial to humpback whales. \"They rely on sound to find food, they rely on sound to find mates, they rely on sound to find their way around the ocean,\" said Fire.Because the low noise made by ships is within the same frequency as the sounds humpback whales make, shipping noise may confuse them and cause them to change their behavior, said Fire: \"As a general rule in ecology, when you make a wild animal change its behavior there are almost always negative consequences.\"For example, too much noise may force whales to leave their natural habitat and go \"where they may be chasing food that moves too fast, or that doesn&amp;apos;t have high enough nutritional content,\" said Fire. \"And usually energy intake is what makes or breaks animal survival.\"Another response may be the whales try using louder calls, yet this comes at an energy cost that also may be detrimental to their ultimate survival. Sometimes whales raise the frequency of their calls in response to ocean noise, he said. \"The higher the frequency, the higher the pitch, the shorter it goes,\" said Fire. \"There&amp;apos;s not a lot of them so they have to call really far to find a mate.\"  Their usual calls travel far, thousands of miles, said Fire, and this allows them to communicate with mammals all across the ocean.Sometimes whales \"stay quiet\" in a noisy ocean, according to Fire, who said, \"if they have to wait in order to communicate, then they might not be able to breed and so that has reproductive consequences.\"show the deadly impacts of deafening sounds on beaked whales -- a separate, deeper diving species from humpback whales -- made by the US Navy during training exercises. Get CNN Health\\'s weekly newsletter  every Tuesday from the CNN Health team., which human SCUBA divers can get if they rise from the depths of the ocean to the surface too swiftly, he explained.In the end, ocean noise is a \"problem\" for humpback whales, said Fire. \"It&amp;apos;s sort of one more thing to add to an already long list of threats for this species.\"  Other threats include getting hit by ships, climate change and coastal transformation, he said.International Edition', 'sentiment': -0.16956}]\n"
     ]
    }
   ],
   "source": [
    "analyze_sentiment(\"https://www.cnn.com/2018/10/24/world/whale-song-study/index.html\")"
   ]
  },
  {
   "cell_type": "code",
   "execution_count": null,
   "metadata": {},
   "outputs": [],
   "source": []
  }
 ],
 "metadata": {
  "kernelspec": {
   "display_name": "Python 3",
   "language": "python",
   "name": "python3"
  },
  "language_info": {
   "codemirror_mode": {
    "name": "ipython",
    "version": 3
   },
   "file_extension": ".py",
   "mimetype": "text/x-python",
   "name": "python",
   "nbconvert_exporter": "python",
   "pygments_lexer": "ipython3",
   "version": "3.6.4"
  }
 },
 "nbformat": 4,
 "nbformat_minor": 2
}
